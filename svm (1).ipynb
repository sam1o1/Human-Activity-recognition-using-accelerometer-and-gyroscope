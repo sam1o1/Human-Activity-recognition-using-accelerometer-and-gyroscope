{
  "nbformat": 4,
  "nbformat_minor": 0,
  "metadata": {
    "colab": {
      "name": "svm.ipynb",
      "provenance": [],
      "collapsed_sections": [],
      "toc_visible": true,
      "machine_shape": "hm"
    },
    "kernelspec": {
      "name": "python3",
      "display_name": "Python 3"
    }
  },
  "cells": [
    {
      "cell_type": "markdown",
      "metadata": {
        "id": "0MRC0e0KhQ0S"
      },
      "source": [
        "# Support Vector Machine (SVM)"
      ]
    },
    {
      "cell_type": "markdown",
      "metadata": {
        "id": "LWd1UlMnhT2s"
      },
      "source": [
        "## Importing the libraries"
      ]
    },
    {
      "cell_type": "code",
      "metadata": {
        "id": "YvGPUQaHhXfL"
      },
      "source": [
        "import numpy as np\n",
        "import matplotlib.pyplot as plt\n",
        "import pandas as pd"
      ],
      "execution_count": 67,
      "outputs": []
    },
    {
      "cell_type": "markdown",
      "metadata": {
        "id": "K1VMqkGvhc3-"
      },
      "source": [
        "## Importing the dataset"
      ]
    },
    {
      "cell_type": "code",
      "metadata": {
        "id": "M52QDmyzhh9s"
      },
      "source": [
        "dataset = pd.read_csv('Dataset_type_I.csv')\n",
        "X = dataset.iloc[:, :-2].values\n",
        "y = dataset.iloc[:, -2].values"
      ],
      "execution_count": 68,
      "outputs": []
    },
    {
      "cell_type": "markdown",
      "metadata": {
        "id": "YvxIPVyMhmKp"
      },
      "source": [
        "## Splitting the dataset into the Training set and Test set"
      ]
    },
    {
      "cell_type": "code",
      "metadata": {
        "id": "AVzJWAXIhxoC"
      },
      "source": [
        "from sklearn.model_selection import train_test_split\n",
        "X_train, X_test, y_train, y_test = train_test_split(X, y, test_size = 0.3, random_state = 0)"
      ],
      "execution_count": 69,
      "outputs": []
    },
    {
      "cell_type": "code",
      "metadata": {
        "id": "P3nS3-6r1i2B",
        "colab": {
          "base_uri": "https://localhost:8080/"
        },
        "outputId": "6dca9164-b72e-4892-9c66-810ada02d95a"
      },
      "source": [
        "print(X_train)"
      ],
      "execution_count": 70,
      "outputs": [
        {
          "output_type": "stream",
          "text": [
            "[[-2.69710282e-03 -3.75572424e-03  6.70405765e-03 ...  1.23146504e+00\n",
            "   4.49317723e-02  4.79886927e+00]\n",
            " [ 5.99315429e-03 -3.02775936e-03  2.34396085e-03 ...  8.51983621e+01\n",
            "   4.19110895e-01  4.67010290e+00]\n",
            " [ 5.26968995e-03 -2.18670893e-02  6.50965555e-04 ...  2.08341239e+02\n",
            "   8.76801603e-01  4.71358773e+00]\n",
            " ...\n",
            " [-1.73282239e-02  3.76900616e-03  1.78378057e-02 ...  6.99958843e+01\n",
            "   3.58715035e-01  4.75236564e+00]\n",
            " [-1.18692992e-03 -2.38811138e-03 -2.05348200e-03 ...  3.41074478e-01\n",
            "   3.16996572e-02  4.78794996e+00]\n",
            " [ 3.67269488e-03 -2.61261505e-03 -6.24782517e-03 ...  1.29555958e+00\n",
            "   3.65085137e-02  4.77524245e+00]]\n"
          ],
          "name": "stdout"
        }
      ]
    },
    {
      "cell_type": "code",
      "metadata": {
        "id": "8dpDLojm1mVG",
        "colab": {
          "base_uri": "https://localhost:8080/"
        },
        "outputId": "dd3dee5d-040b-4b80-d625-56180091e6b4"
      },
      "source": [
        "print(y_train)"
      ],
      "execution_count": 71,
      "outputs": [
        {
          "output_type": "stream",
          "text": [
            "[6. 1. 1. ... 3. 5. 4.]\n"
          ],
          "name": "stdout"
        }
      ]
    },
    {
      "cell_type": "code",
      "metadata": {
        "id": "qbb7i0DH1qui",
        "colab": {
          "base_uri": "https://localhost:8080/"
        },
        "outputId": "6835e5f0-b3c8-4006-85cc-11725d141be5"
      },
      "source": [
        "print(X_test)"
      ],
      "execution_count": 72,
      "outputs": [
        {
          "output_type": "stream",
          "text": [
            "[[-3.48361554e-03  3.79183009e-03  1.65379773e-03 ...  1.13942510e+00\n",
            "   3.42178985e-02  4.73801170e+00]\n",
            " [ 4.02114447e-03 -5.63463346e-03 -6.23360673e-04 ...  6.97628409e+01\n",
            "   2.82880818e-01  4.72409914e+00]\n",
            " [-8.22447331e-03  1.68562287e-02 -6.82648063e-03 ...  9.92805930e+01\n",
            "   6.36820179e-01  4.71730923e+00]\n",
            " ...\n",
            " [-8.73997326e-03  4.85162975e-03  2.81764687e-03 ...  8.02356077e-01\n",
            "   2.93807633e-02  4.81321796e+00]\n",
            " [ 1.56076621e-04  5.61553111e-03 -6.94906752e-04 ...  1.07823605e+02\n",
            "   6.14637232e-01  4.73632427e+00]\n",
            " [-3.44767707e-03 -7.95156053e-03  1.26640399e-03 ...  8.49595686e+01\n",
            "   4.53390046e-01  4.75626079e+00]]\n"
          ],
          "name": "stdout"
        }
      ]
    },
    {
      "cell_type": "code",
      "metadata": {
        "id": "kj1hnFAR1s5w",
        "colab": {
          "base_uri": "https://localhost:8080/"
        },
        "outputId": "54d5b2de-7adb-4a62-dbb9-c7997a944c3c"
      },
      "source": [
        "print(y_test)"
      ],
      "execution_count": 73,
      "outputs": [
        {
          "output_type": "stream",
          "text": [
            "[6. 3. 3. ... 6. 2. 1.]\n"
          ],
          "name": "stdout"
        }
      ]
    },
    {
      "cell_type": "markdown",
      "metadata": {
        "id": "kW3c7UYih0hT"
      },
      "source": [
        "## Feature Scaling"
      ]
    },
    {
      "cell_type": "code",
      "metadata": {
        "id": "9fQlDPKCh8sc"
      },
      "source": [
        "from sklearn.preprocessing import StandardScaler\n",
        "sc = StandardScaler()\n",
        "X_train = sc.fit_transform(X_train)\n",
        "X_test = sc.transform(X_test)"
      ],
      "execution_count": 74,
      "outputs": []
    },
    {
      "cell_type": "code",
      "metadata": {
        "id": "syrnD1Op2BSR",
        "colab": {
          "base_uri": "https://localhost:8080/"
        },
        "outputId": "e8b5f463-98fa-48b2-e3a6-63691e222dd9"
      },
      "source": [
        "print(X_train)"
      ],
      "execution_count": 75,
      "outputs": [
        {
          "output_type": "stream",
          "text": [
            "[[-3.11327837e-01 -5.15653879e-01  9.48389792e-01 ... -7.12622756e-01\n",
            "  -7.98707729e-01  8.11378536e-01]\n",
            " [ 6.31306956e-01 -4.10363562e-01  3.24724125e-01 ...  8.73986469e-01\n",
            "   9.06053179e-01 -1.42927946e+00]\n",
            " [ 5.52832562e-01 -3.13521897e+00  8.25590802e-02 ...  3.20085137e+00\n",
            "   2.99129306e+00 -6.72601772e-01]\n",
            " ...\n",
            " [-1.89836992e+00  5.72697051e-01  2.54095453e+00 ...  5.86725747e-01\n",
            "   6.30889509e-01  2.17092593e-03]\n",
            " [-1.47518930e-01 -3.17847094e-01 -3.04283498e-01 ... -7.29447266e-01\n",
            "  -8.58993275e-01  6.21372070e-01]\n",
            " [ 3.79606028e-01 -3.50318527e-01 -9.04239865e-01 ... -7.11411648e-01\n",
            "  -8.37084114e-01  4.00249285e-01]]\n"
          ],
          "name": "stdout"
        }
      ]
    },
    {
      "cell_type": "code",
      "metadata": {
        "id": "JUd6iBRp2C3L",
        "colab": {
          "base_uri": "https://localhost:8080/"
        },
        "outputId": "3170605a-30a1-4b04-8575-9a542a4a7e03"
      },
      "source": [
        "print(X_test)"
      ],
      "execution_count": 76,
      "outputs": [
        {
          "output_type": "stream",
          "text": [
            "[[-3.96641106e-01  5.75998224e-01  2.26003601e-01 ... -7.14361911e-01\n",
            "  -8.47520162e-01 -2.47601332e-01]\n",
            " [ 4.17402459e-01 -7.87412799e-01 -9.97197898e-02 ...  5.82322240e-01\n",
            "   2.85388650e-01 -4.89693267e-01]\n",
            " [-9.10883368e-01  2.46558757e+00 -9.87010399e-01 ...  1.14007940e+00\n",
            "   1.89793716e+00 -6.07844168e-01]\n",
            " ...\n",
            " [-9.66799803e-01  7.29283976e-01  3.92479894e-01 ... -7.20731050e-01\n",
            "  -8.69558161e-01  1.06105954e+00]\n",
            " [-1.84260774e-03  8.39772021e-01 -1.09953699e-01 ...  1.30150518e+00\n",
            "   1.79687161e+00 -2.76964247e-01]\n",
            " [-3.92742850e-01 -1.12252510e+00  1.70591030e-01 ...  8.69474311e-01\n",
            "   1.06222907e+00  6.99502108e-02]]\n"
          ],
          "name": "stdout"
        }
      ]
    },
    {
      "cell_type": "markdown",
      "metadata": {
        "id": "bb6jCOCQiAmP"
      },
      "source": [
        "## Training the SVM model on the Training set"
      ]
    },
    {
      "cell_type": "code",
      "metadata": {
        "id": "e0pFVAmciHQs",
        "colab": {
          "base_uri": "https://localhost:8080/"
        },
        "outputId": "fc8944ee-3b43-4a24-d730-d70f13644e1a"
      },
      "source": [
        "from sklearn.svm import SVC\n",
        "classifier = SVC(kernel = 'linear', random_state = 0)\n",
        "classifier.fit(X_train, y_train)"
      ],
      "execution_count": 77,
      "outputs": [
        {
          "output_type": "execute_result",
          "data": {
            "text/plain": [
              "SVC(C=1.0, break_ties=False, cache_size=200, class_weight=None, coef0=0.0,\n",
              "    decision_function_shape='ovr', degree=3, gamma='scale', kernel='linear',\n",
              "    max_iter=-1, probability=False, random_state=0, shrinking=True, tol=0.001,\n",
              "    verbose=False)"
            ]
          },
          "metadata": {
            "tags": []
          },
          "execution_count": 77
        }
      ]
    },
    {
      "cell_type": "markdown",
      "metadata": {
        "id": "vKYVQH-l5NpE"
      },
      "source": [
        "## Predicting the Test set results"
      ]
    },
    {
      "cell_type": "code",
      "metadata": {
        "id": "p6VMTb2O4hwM",
        "colab": {
          "base_uri": "https://localhost:8080/"
        },
        "outputId": "b9add6a2-916d-4a21-8daf-603aba0e204d"
      },
      "source": [
        "y_pred = classifier.predict(X_test)\n",
        "print(np.concatenate((y_pred.reshape(len(y_pred),1), y_test.reshape(len(y_test),1)),1))"
      ],
      "execution_count": 78,
      "outputs": [
        {
          "output_type": "stream",
          "text": [
            "[[6. 6.]\n",
            " [3. 3.]\n",
            " [3. 3.]\n",
            " ...\n",
            " [6. 6.]\n",
            " [2. 2.]\n",
            " [1. 1.]]\n"
          ],
          "name": "stdout"
        }
      ]
    },
    {
      "cell_type": "markdown",
      "metadata": {
        "id": "h4Hwj34ziWQW"
      },
      "source": [
        "## Making the Confusion Matrix"
      ]
    },
    {
      "cell_type": "code",
      "metadata": {
        "id": "D6bpZwUiiXic",
        "colab": {
          "base_uri": "https://localhost:8080/"
        },
        "outputId": "e1bd6ed5-5e99-41a7-b371-5649b009c998"
      },
      "source": [
        "from sklearn.metrics import confusion_matrix, accuracy_score\n",
        "cm = confusion_matrix(y_test, y_pred)\n",
        "print(cm)\n",
        "accuracy_score(y_test, y_pred)"
      ],
      "execution_count": 79,
      "outputs": [
        {
          "output_type": "stream",
          "text": [
            "[[465  12   1   0   0   0]\n",
            " [ 18 445   4   0   0   0]\n",
            " [  9   6 406   0   0   0]\n",
            " [  0   0   0 479  60   0]\n",
            " [  0   0   0  36 540   0]\n",
            " [  0   0   0   0   0 639]]\n"
          ],
          "name": "stdout"
        },
        {
          "output_type": "execute_result",
          "data": {
            "text/plain": [
              "0.9532051282051283"
            ]
          },
          "metadata": {
            "tags": []
          },
          "execution_count": 79
        }
      ]
    },
    {
      "cell_type": "code",
      "metadata": {
        "colab": {
          "base_uri": "https://localhost:8080/"
        },
        "id": "VFiwnqAvpLlW",
        "outputId": "504ba8fa-91ec-430a-e9d8-6c80747964e7"
      },
      "source": [
        "from sklearn.metrics import classification_report\r\n",
        "print(classification_report(y_test, y_pred, labels=[1, 2, 3,4,5,6]))"
      ],
      "execution_count": 80,
      "outputs": [
        {
          "output_type": "stream",
          "text": [
            "              precision    recall  f1-score   support\n",
            "\n",
            "           1       0.95      0.97      0.96       478\n",
            "           2       0.96      0.95      0.96       467\n",
            "           3       0.99      0.96      0.98       421\n",
            "           4       0.93      0.89      0.91       539\n",
            "           5       0.90      0.94      0.92       576\n",
            "           6       1.00      1.00      1.00       639\n",
            "\n",
            "    accuracy                           0.95      3120\n",
            "   macro avg       0.95      0.95      0.95      3120\n",
            "weighted avg       0.95      0.95      0.95      3120\n",
            "\n"
          ],
          "name": "stdout"
        }
      ]
    },
    {
      "cell_type": "code",
      "metadata": {
        "colab": {
          "base_uri": "https://localhost:8080/"
        },
        "id": "_QMccC6yqAdp",
        "outputId": "9c67efba-88b1-4b28-85bc-6ea10ab25fb5"
      },
      "source": [
        "from sklearn.metrics import f1_score\r\n",
        "f1_score(y_test, y_pred, average='weighted')"
      ],
      "execution_count": 81,
      "outputs": [
        {
          "output_type": "execute_result",
          "data": {
            "text/plain": [
              "0.9531952111187005"
            ]
          },
          "metadata": {
            "tags": []
          },
          "execution_count": 81
        }
      ]
    },
    {
      "cell_type": "code",
      "metadata": {
        "id": "ZO7kV12dstVk"
      },
      "source": [
        "def calculate_sensitivity_specificity(y_test, y_pred_test):\r\n",
        "    # Note: More parameters are defined than necessary. \r\n",
        "    # This would allow return of other measures other than sensitivity and specificity\r\n",
        "    \r\n",
        "    # Get true/false for whether a breach actually occurred\r\n",
        "    actual_pos = y_test == 1\r\n",
        "    actual_neg = y_test == 0\r\n",
        "    \r\n",
        "    # Get true and false test (true test match actual, false tests differ from actual)\r\n",
        "    true_pos = (y_pred_test == 1) & (actual_pos)\r\n",
        "    false_pos = (y_pred_test == 1) & (actual_neg)\r\n",
        "    true_neg = (y_pred_test == 0) & (actual_neg)\r\n",
        "    false_neg = (y_pred_test == 0) & (actual_pos)\r\n",
        "    \r\n",
        "    # Calculate accuracy\r\n",
        "    accuracy = np.mean(y_pred_test == y_test)\r\n",
        "    \r\n",
        "    # Calculate sensitivity and specificity\r\n",
        "    sensitivity = np.sum(true_pos) / np.sum(actual_pos)\r\n",
        "    specificity = np.sum(true_neg) / np.sum(actual_neg)\r\n",
        "    \r\n",
        "    return sensitivity, accuracy"
      ],
      "execution_count": 90,
      "outputs": []
    },
    {
      "cell_type": "code",
      "metadata": {
        "colab": {
          "base_uri": "https://localhost:8080/"
        },
        "id": "3SygG0GhvWuZ",
        "outputId": "199d9431-84a2-4518-a07b-1d7087b80571"
      },
      "source": [
        "sensitivity,accuracy = calculate_sensitivity_specificity(y_test, y_pred)\r\n",
        "print ('Sensitivity:', sensitivity)\r\n",
        "print ('Accuracy:', accuracy)"
      ],
      "execution_count": 91,
      "outputs": [
        {
          "output_type": "stream",
          "text": [
            "Sensitivity: 0.9728033472803347\n",
            "Accuracy: 0.9532051282051283\n"
          ],
          "name": "stdout"
        },
        {
          "output_type": "stream",
          "text": [
            "/usr/local/lib/python3.6/dist-packages/ipykernel_launcher.py:20: RuntimeWarning: invalid value encountered in long_scalars\n"
          ],
          "name": "stderr"
        }
      ]
    }
  ]
}